{
 "cells": [
  {
   "cell_type": "markdown",
   "id": "b181b778-f8b5-46a4-911b-ccbf30a9b14f",
   "metadata": {},
   "source": [
    "# Data Science Tools and Ecosystem"
   ]
  },
  {
   "cell_type": "markdown",
   "id": "001ce3bc-bbaf-475b-b43d-b184b36d211a",
   "metadata": {},
   "source": [
    "In this notebook, Data Science Tools and Ecosystem are summarized."
   ]
  },
  {
   "cell_type": "markdown",
   "id": "04a5f4eb-f1fb-4e2b-802b-58298517fa74",
   "metadata": {},
   "source": [
    "**Objectives:**\n",
    "1. List popular languages for Data Science\n",
    "2. List open source development environments for Data Science\n",
    "3. Share Jupyter notebooks via Github"
   ]
  },
  {
   "cell_type": "markdown",
   "id": "467f1401-366b-4361-a274-0cdb109dd328",
   "metadata": {},
   "source": [
    "Some of the popular languages that Data Scientists use are:\n",
    "1. Python\n",
    "2. R\n",
    "3. Java\n",
    "4. C++"
   ]
  },
  {
   "cell_type": "markdown",
   "id": "56f9cb5c-49ce-481e-8407-a0bf88b3ac3e",
   "metadata": {},
   "source": [
    "Some of the commonly used libraries used by Data Scientists include:\n",
    "1. pandas\n",
    "2. Matplotlib\n",
    "3. numpy"
   ]
  },
  {
   "cell_type": "markdown",
   "id": "208a4d7e-ec3f-4c88-afe6-1179e970e311",
   "metadata": {},
   "source": [
    "| Data Science Tools |\n",
    "| ------------------ |\n",
    "| Jupyter Notebooks |\n",
    "| RStudio |\n",
    "| Visual Studio Code |"
   ]
  },
  {
   "cell_type": "markdown",
   "id": "d3e5b0c3-c8d0-4a18-9c39-ea28eb5eed4d",
   "metadata": {},
   "source": [
    "### Below are a few examples of evaluating arithmetic expressions in Python.\n",
    "* 1+2\n",
    "* 3*6\n",
    "* 4.3/22"
   ]
  },
  {
   "cell_type": "code",
   "execution_count": 4,
   "id": "68eeb73c-77e6-4733-88d5-7d072eb70915",
   "metadata": {},
   "outputs": [
    {
     "data": {
      "text/plain": [
       "17"
      ]
     },
     "execution_count": 4,
     "metadata": {},
     "output_type": "execute_result"
    }
   ],
   "source": [
    "# This a simple arithmetic expression to mutiply then add integers\n",
    "(3*4)+5"
   ]
  },
  {
   "cell_type": "code",
   "execution_count": 6,
   "id": "4051180a-8ed3-45ab-9601-291bcd176c87",
   "metadata": {},
   "outputs": [
    {
     "data": {
      "text/plain": [
       "3.3333333333333335"
      ]
     },
     "execution_count": 6,
     "metadata": {},
     "output_type": "execute_result"
    }
   ],
   "source": [
    "# This will convert 200 minutes to hours by diving by 60\n",
    "200/60"
   ]
  },
  {
   "cell_type": "markdown",
   "id": "a95c0492-cf90-41dd-96a9-c7842c73f745",
   "metadata": {},
   "source": [
    "## Author\n",
    "Keith McCann"
   ]
  },
  {
   "cell_type": "code",
   "execution_count": null,
   "id": "d0c9d90a-b254-4724-a331-9931ecdf76b5",
   "metadata": {},
   "outputs": [],
   "source": []
  }
 ],
 "metadata": {
  "kernelspec": {
   "display_name": "Python 3 (ipykernel)",
   "language": "python",
   "name": "python3"
  },
  "language_info": {
   "codemirror_mode": {
    "name": "ipython",
    "version": 3
   },
   "file_extension": ".py",
   "mimetype": "text/x-python",
   "name": "python",
   "nbconvert_exporter": "python",
   "pygments_lexer": "ipython3",
   "version": "3.12.4"
  }
 },
 "nbformat": 4,
 "nbformat_minor": 5
}
